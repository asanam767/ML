{
  "nbformat": 4,
  "nbformat_minor": 0,
  "metadata": {
    "colab": {
      "provenance": [],
      "authorship_tag": "ABX9TyM+35ewZa7vfkcc52EFNK8y",
      "include_colab_link": true
    },
    "kernelspec": {
      "name": "python3",
      "display_name": "Python 3"
    },
    "language_info": {
      "name": "python"
    }
  },
  "cells": [
    {
      "cell_type": "markdown",
      "metadata": {
        "id": "view-in-github",
        "colab_type": "text"
      },
      "source": [
        "<a href=\"https://colab.research.google.com/github/asanam767/ML/blob/main/NASA.ipynb\" target=\"_parent\"><img src=\"https://colab.research.google.com/assets/colab-badge.svg\" alt=\"Open In Colab\"/></a>"
      ]
    },
    {
      "cell_type": "code",
      "execution_count": 1,
      "metadata": {
        "id": "bgGyHFDEHPV-"
      },
      "outputs": [],
      "source": [
        "import pandas as pd\n",
        "import numpy as np\n",
        "import matplotlib.pyplot as plt\n",
        "import seaborn as sns\n",
        "import warnings\n",
        "warnings.filterwarnings(\"ignore\")"
      ]
    },
    {
      "cell_type": "code",
      "source": [
        "#import all the models - random forest , decision trees , logistic trees\n",
        "from sklearn.ensemble import RandomForestClassifier\n",
        "from sklearn.tree import DecisionTreeClassifier\n",
        "from sklearn.linear_model import LogisticRegression\n",
        "from sklearn.metrics import accuracy_score, confusion_matrix, classification_report, recall_score\n",
        "from sklearn.model_selection import train_test_split\n"
      ],
      "metadata": {
        "id": "mVx3RrvIegT2"
      },
      "execution_count": 2,
      "outputs": []
    },
    {
      "cell_type": "code",
      "source": [],
      "metadata": {
        "id": "H3bEBqU7Igvf"
      },
      "execution_count": null,
      "outputs": []
    },
    {
      "cell_type": "code",
      "source": [
        "models = {\n",
        "    \"Logistic Regression\": LogisticRegression(),\n",
        "    \"Decision Tree\": DecisionTreeClassifier(),\n",
        "    \"Random Forest\": RandomForestClassifier()\n",
        "}\n"
      ],
      "metadata": {
        "id": "f_96bbcxfgOu"
      },
      "execution_count": 3,
      "outputs": []
    },
    {
      "cell_type": "code",
      "source": [
        "from sklearn.metrics import accuracy_score, f1_score, precision_score, recall_score, roc_auc_score\n",
        "\n",
        "# Dictionary to store performance metrics for each model\n",
        "performance_metrics = {}\n",
        "\n",
        "# Loop through models\n",
        "for i in range(len(list(models))):\n",
        "    # Get model\n",
        "    model = list(models.values())[i]\n",
        "    model_name = list(models.keys())[i]\n",
        "\n",
        "    # Train the model\n",
        "    model.fit(X_train, y_train)\n",
        "\n",
        "    # Make predictions\n",
        "    y_train_pred = model.predict(X_train)\n",
        "    y_test_pred = model.predict(X_test)\n",
        "\n",
        "    # Calculate Training set performance\n",
        "    model_train_accuracy = accuracy_score(y_train, y_train_pred)\n",
        "    model_train_f1 = f1_score(y_train, y_train_pred, average='weighted')\n",
        "    model_train_precision = precision_score(y_train, y_train_pred, average='weighted') # Added 'average' param\n",
        "    model_train_recall = recall_score(y_train, y_train_pred, average='weighted')       # Added 'average' param\n",
        "    model_train_roc_auc = roc_auc_score(y_train, model.predict_proba(X_train), multi_class='ovr') # If multiclass\n",
        "\n",
        "    # Calculate Test set performance\n",
        "    model_test_accuracy = accuracy_score(y_test, y_test_pred)\n",
        "    model_test_f1 = f1_score(y_test, y_test_pred, average='weighted')\n",
        "    model_test_precision = precision_score(y_test, y_test_pred, average='weighted') # Added 'average' param\n",
        "    model_test_recall = recall_score(y_test, y_test_pred, average='weighted')       # Added 'average' param\n",
        "    model_test_roc_auc = roc_auc_score(y_test, model.predict_proba(X_test), multi_class='ovr') # If multiclass\n",
        "\n",
        "    # Print results\n",
        "    print(f\"{model_name}\")\n",
        "    print('Model performance for training set')\n",
        "    print(f\"- Accuracy: {model_train_accuracy:.4f}\")\n",
        "    print(f\"- F1 Score: {model_train_f1:.4f}\")\n",
        "    print(f\"- Precision: {model_train_precision:.4f}\")\n",
        "    print(f\"- Recall: {model_train_recall:.4f}\")\n",
        "    print(f\"- ROC AUC: {model_train_roc_auc:.4f}\")\n",
        "    print('---------------------------------------------------------')\n",
        "    print('Model performance for test data set')\n",
        "    print(f\"- Accuracy: {model_test_accuracy:.4f}\")\n",
        "    print(f\"- F1 Score: {model_test_f1:.4f}\")\n",
        "    print(f\"- Precision: {model_test_precision:.4f}\")\n",
        "    print(f\"- Recall: {model_test_recall:.4f}\")\n",
        "    print(f\"- ROC AUC: {model_test_roc_auc:.4f}\")\n",
        "    print('='*35)\n",
        "    print('\\n')\n",
        "\n",
        "    # Store performance metrics\n",
        "    performance_metrics[model_name] = {\n",
        "        'Train Accuracy': model_train_accuracy,\n",
        "        'Train F1 Score': model_train_f1,\n",
        "        'Train Precision': model_train_precision,\n",
        "        'Train Recall': model_train_recall,\n",
        "        'Train ROC AUC': model_train_roc_auc,\n",
        "        'Test Accuracy': model_test_accuracy,\n",
        "        'Test F1 Score': model_test_f1,\n",
        "        'Test Precision': model_test_precision,\n",
        "        'Test Recall': model_test_recall,\n",
        "        'Test ROC AUC': model_test_roc_auc\n",
        "    }\n",
        "\n",
        "# Optional: Convert performance_metrics dictionary to a DataFrame for easier visualization\n",
        "import pandas as pd\n",
        "performance_df = pd.DataFrame(performance_metrics).T\n",
        "print(performance_df)\n"
      ],
      "metadata": {
        "id": "2jG6mofDfu4G",
        "colab": {
          "base_uri": "https://localhost:8080/",
          "height": 211
        },
        "outputId": "afa70d18-365d-4b49-da00-4f33b4af97aa"
      },
      "execution_count": 6,
      "outputs": [
        {
          "output_type": "error",
          "ename": "NameError",
          "evalue": "name 'X_train' is not defined",
          "traceback": [
            "\u001b[0;31m---------------------------------------------------------------------------\u001b[0m",
            "\u001b[0;31mNameError\u001b[0m                                 Traceback (most recent call last)",
            "\u001b[0;32m<ipython-input-6-068a0ca86afd>\u001b[0m in \u001b[0;36m<cell line: 7>\u001b[0;34m()\u001b[0m\n\u001b[1;32m     11\u001b[0m \u001b[0;34m\u001b[0m\u001b[0m\n\u001b[1;32m     12\u001b[0m     \u001b[0;31m# Train the model\u001b[0m\u001b[0;34m\u001b[0m\u001b[0;34m\u001b[0m\u001b[0m\n\u001b[0;32m---> 13\u001b[0;31m     \u001b[0mmodel\u001b[0m\u001b[0;34m.\u001b[0m\u001b[0mfit\u001b[0m\u001b[0;34m(\u001b[0m\u001b[0mX_train\u001b[0m\u001b[0;34m,\u001b[0m \u001b[0my_train\u001b[0m\u001b[0;34m)\u001b[0m\u001b[0;34m\u001b[0m\u001b[0;34m\u001b[0m\u001b[0m\n\u001b[0m\u001b[1;32m     14\u001b[0m \u001b[0;34m\u001b[0m\u001b[0m\n\u001b[1;32m     15\u001b[0m     \u001b[0;31m# Make predictions\u001b[0m\u001b[0;34m\u001b[0m\u001b[0;34m\u001b[0m\u001b[0m\n",
            "\u001b[0;31mNameError\u001b[0m: name 'X_train' is not defined"
          ]
        }
      ]
    },
    {
      "cell_type": "code",
      "source": [
        "# Hyperparameter Training\n",
        "rf_params={\n",
        "    \"max_depth\":\n",
        "}"
      ],
      "metadata": {
        "id": "iW1p7ivqCvZV"
      },
      "execution_count": null,
      "outputs": []
    }
  ]
}